{
 "cells": [
  {
   "cell_type": "code",
   "execution_count": null,
   "id": "c4f99709-8a80-412c-b9f3-17e15a701bbc",
   "metadata": {},
   "outputs": [],
   "source": [
    "# 문제 8\n",
    "speed = 120\n",
    "limit = 50\n",
    "\n",
    "check_speed = lambda speed, limit: \"과속입니다\" if speed > limit else \"정상 속도입니다. 안전운행 하세요.\"\n",
    "\n",
    "print(check_speed(speed, limit))"
   ]
  }
 ],
 "metadata": {
  "kernelspec": {
   "display_name": "Python 3 (ipykernel)",
   "language": "python",
   "name": "python3"
  },
  "language_info": {
   "codemirror_mode": {
    "name": "ipython",
    "version": 3
   },
   "file_extension": ".py",
   "mimetype": "text/x-python",
   "name": "python",
   "nbconvert_exporter": "python",
   "pygments_lexer": "ipython3",
   "version": "3.12.7"
  }
 },
 "nbformat": 4,
 "nbformat_minor": 5
}
