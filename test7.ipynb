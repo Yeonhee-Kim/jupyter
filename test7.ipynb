{
 "cells": [
  {
   "cell_type": "code",
   "execution_count": null,
   "id": "460102e0-1e37-4ffe-b7f7-2145ec87b504",
   "metadata": {},
   "outputs": [],
   "source": [
    "# 문제 7\n",
    "def your_function(target):\n",
    "    result = list(map(lambda x: str(x**2) if x > 0 else str(x), target))\n",
    "    return result\n",
    "\n",
    "target = [1, -2, 3, -4, 5]\n",
    "result = your_function(target)\n",
    "print(result)"
   ]
  }
 ],
 "metadata": {
  "kernelspec": {
   "display_name": "Python 3 (ipykernel)",
   "language": "python",
   "name": "python3"
  },
  "language_info": {
   "codemirror_mode": {
    "name": "ipython",
    "version": 3
   },
   "file_extension": ".py",
   "mimetype": "text/x-python",
   "name": "python",
   "nbconvert_exporter": "python",
   "pygments_lexer": "ipython3",
   "version": "3.12.7"
  }
 },
 "nbformat": 4,
 "nbformat_minor": 5
}
