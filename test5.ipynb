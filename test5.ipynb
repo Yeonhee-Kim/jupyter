{
 "cells": [
  {
   "cell_type": "code",
   "execution_count": null,
   "id": "e3fa9f8f-37cf-43af-a866-2463fd8bd1e9",
   "metadata": {},
   "outputs": [],
   "source": [
    "# 문제 5\n",
    "def repeat_n_times(x, n):\n",
    "    print(x * n)\n",
    "\n",
    "if __name__ == \"__main__\":\n",
    "    repeat_n_times(3,4)\n",
    "    repeat_n_times('a',5)"
   ]
  }
 ],
 "metadata": {
  "kernelspec": {
   "display_name": "Python 3 (ipykernel)",
   "language": "python",
   "name": "python3"
  },
  "language_info": {
   "codemirror_mode": {
    "name": "ipython",
    "version": 3
   },
   "file_extension": ".py",
   "mimetype": "text/x-python",
   "name": "python",
   "nbconvert_exporter": "python",
   "pygments_lexer": "ipython3",
   "version": "3.12.7"
  }
 },
 "nbformat": 4,
 "nbformat_minor": 5
}
