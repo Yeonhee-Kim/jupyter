{
 "cells": [
  {
   "cell_type": "code",
   "execution_count": null,
   "id": "7855b8cb-eb1e-4b49-91ad-d2dc3c4a0a74",
   "metadata": {},
   "outputs": [],
   "source": [
    "# 문제 3\n",
    "result = \"\"\n",
    "\n",
    "while True:\n",
    "    S = input()\n",
    "    if S == \"\":\n",
    "        break\n",
    "    result += S\n",
    "\n",
    "print(result)"
   ]
  }
 ],
 "metadata": {
  "kernelspec": {
   "display_name": "Python 3 (ipykernel)",
   "language": "python",
   "name": "python3"
  },
  "language_info": {
   "codemirror_mode": {
    "name": "ipython",
    "version": 3
   },
   "file_extension": ".py",
   "mimetype": "text/x-python",
   "name": "python",
   "nbconvert_exporter": "python",
   "pygments_lexer": "ipython3",
   "version": "3.12.7"
  }
 },
 "nbformat": 4,
 "nbformat_minor": 5
}
