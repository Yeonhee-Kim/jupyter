{
 "cells": [
  {
   "cell_type": "code",
   "execution_count": 1,
   "id": "d2eaa877-1dbc-4daf-907e-d4fbd7fb5e1c",
   "metadata": {},
   "outputs": [
    {
     "name": "stdout",
     "output_type": "stream",
     "text": [
      "10\n",
      "15\n"
     ]
    }
   ],
   "source": [
    "multiply_by_n = lambda n: lambda x: x * n\n",
    "\n",
    "doubler = multiply_by_n(2)\n",
    "print(doubler(5))\n",
    "\n",
    "tripler = multiply_by_n(3)\n",
    "print(tripler(5))  "
   ]
  },
  {
   "cell_type": "code",
   "execution_count": null,
   "id": "66b59c87-2e8f-4022-936f-ba49eee590ba",
   "metadata": {},
   "outputs": [],
   "source": []
  }
 ],
 "metadata": {
  "kernelspec": {
   "display_name": "Python 3 (ipykernel)",
   "language": "python",
   "name": "python3"
  },
  "language_info": {
   "codemirror_mode": {
    "name": "ipython",
    "version": 3
   },
   "file_extension": ".py",
   "mimetype": "text/x-python",
   "name": "python",
   "nbconvert_exporter": "python",
   "pygments_lexer": "ipython3",
   "version": "3.12.7"
  }
 },
 "nbformat": 4,
 "nbformat_minor": 5
}
