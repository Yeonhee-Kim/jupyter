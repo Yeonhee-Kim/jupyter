{
 "cells": [
  {
   "cell_type": "code",
   "execution_count": null,
   "id": "4795eb3c-6e91-42a2-9e38-8a8f42aba345",
   "metadata": {},
   "outputs": [],
   "source": [
    "# 문제 1\n",
    "\n",
    "S = input()\n",
    "\n",
    "S = S.upper() # 대문자 변환\n",
    "\n",
    "output = \"\"\n",
    "\n",
    "i = 0\n",
    "while i < len(S):\n",
    "    output += S\n",
    "    if i < len(S) - 1:\n",
    "        output += \",\"\n",
    "    i += 1\n",
    "\n",
    "print(output)"
   ]
  }
 ],
 "metadata": {
  "kernelspec": {
   "display_name": "Python 3 (ipykernel)",
   "language": "python",
   "name": "python3"
  },
  "language_info": {
   "codemirror_mode": {
    "name": "ipython",
    "version": 3
   },
   "file_extension": ".py",
   "mimetype": "text/x-python",
   "name": "python",
   "nbconvert_exporter": "python",
   "pygments_lexer": "ipython3",
   "version": "3.12.7"
  }
 },
 "nbformat": 4,
 "nbformat_minor": 5
}
