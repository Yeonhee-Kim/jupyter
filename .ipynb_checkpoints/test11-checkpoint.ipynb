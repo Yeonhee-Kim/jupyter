{
 "cells": [
  {
   "cell_type": "code",
   "execution_count": null,
   "id": "da8a3635-d9a1-471a-a87a-153dd06069b1",
   "metadata": {},
   "outputs": [],
   "source": [
    "# 문제 11\n",
    "import random\n",
    "\n",
    "numlist = range(1,101)\n",
    "s = random.sample(numlist, 50)\n",
    "print(s)"
   ]
  }
 ],
 "metadata": {
  "kernelspec": {
   "display_name": "Python 3 (ipykernel)",
   "language": "python",
   "name": "python3"
  },
  "language_info": {
   "codemirror_mode": {
    "name": "ipython",
    "version": 3
   },
   "file_extension": ".py",
   "mimetype": "text/x-python",
   "name": "python",
   "nbconvert_exporter": "python",
   "pygments_lexer": "ipython3",
   "version": "3.12.7"
  }
 },
 "nbformat": 4,
 "nbformat_minor": 5
}
