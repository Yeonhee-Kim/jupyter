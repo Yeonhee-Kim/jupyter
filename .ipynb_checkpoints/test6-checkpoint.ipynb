{
 "cells": [
  {
   "cell_type": "code",
   "execution_count": null,
   "id": "8ce5312c-eb29-4666-b4df-452b056ee3e2",
   "metadata": {},
   "outputs": [],
   "source": [
    "# 문제 6\n",
    "target = [1, 2, 3, 4, 5]\n",
    "\n",
    "str_target = list(map(lambda x: str(x), target))\n",
    "\n",
    "print(str_target)"
   ]
  }
 ],
 "metadata": {
  "kernelspec": {
   "display_name": "Python 3 (ipykernel)",
   "language": "python",
   "name": "python3"
  },
  "language_info": {
   "codemirror_mode": {
    "name": "ipython",
    "version": 3
   },
   "file_extension": ".py",
   "mimetype": "text/x-python",
   "name": "python",
   "nbconvert_exporter": "python",
   "pygments_lexer": "ipython3",
   "version": "3.12.7"
  }
 },
 "nbformat": 4,
 "nbformat_minor": 5
}
