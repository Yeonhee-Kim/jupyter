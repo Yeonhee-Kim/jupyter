{
 "cells": [
  {
   "cell_type": "code",
   "execution_count": null,
   "id": "a1cb0529-7f41-4f77-900f-1b4f36126fea",
   "metadata": {},
   "outputs": [],
   "source": [
    "# 문제 4\n",
    "A,B = map(int, input().split())\n",
    "num = list(map(int, input().split()))\n",
    "\n",
    "for i in range(len(num)-1):\n",
    "    if num[i] >= A and num[i] <= B:\n",
    "        print(\"Humidity OK\")\n",
    "    else:\n",
    "        print(\"Warning!\")\n",
    "        break"
   ]
  }
 ],
 "metadata": {
  "kernelspec": {
   "display_name": "Python 3 (ipykernel)",
   "language": "python",
   "name": "python3"
  },
  "language_info": {
   "codemirror_mode": {
    "name": "ipython",
    "version": 3
   },
   "file_extension": ".py",
   "mimetype": "text/x-python",
   "name": "python",
   "nbconvert_exporter": "python",
   "pygments_lexer": "ipython3",
   "version": "3.12.7"
  }
 },
 "nbformat": 4,
 "nbformat_minor": 5
}
