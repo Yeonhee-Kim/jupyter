{
 "cells": [
  {
   "cell_type": "code",
   "execution_count": null,
   "id": "8f41eb7e-ddd9-4341-9606-0447d4d441fe",
   "metadata": {},
   "outputs": [],
   "source": [
    "# 문제 10\n",
    "companies = [\n",
    "    ['삼성전자', '삼성생명', '삼성화재'],\n",
    "    ['LG전자', 'LG화학'],\n",
    "    ['SKT', 'SK바이오사이언스'],\n",
    "    ['셀트리온']\n",
    "]\n",
    "print(companies)\n",
    "\n",
    "companies[3].append('종근당')\n",
    "\n",
    "remove_com = companies.pop()\n",
    "\n",
    "print(remove_com)"
   ]
  }
 ],
 "metadata": {
  "kernelspec": {
   "display_name": "Python 3 (ipykernel)",
   "language": "python",
   "name": "python3"
  },
  "language_info": {
   "codemirror_mode": {
    "name": "ipython",
    "version": 3
   },
   "file_extension": ".py",
   "mimetype": "text/x-python",
   "name": "python",
   "nbconvert_exporter": "python",
   "pygments_lexer": "ipython3",
   "version": "3.12.7"
  }
 },
 "nbformat": 4,
 "nbformat_minor": 5
}
