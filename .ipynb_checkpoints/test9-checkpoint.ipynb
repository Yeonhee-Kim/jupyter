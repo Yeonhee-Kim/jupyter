{
 "cells": [
  {
   "cell_type": "code",
   "execution_count": null,
   "id": "16a998e1-d6d5-447e-9183-156a6ebf511f",
   "metadata": {},
   "outputs": [],
   "source": [
    "# 문제 9\n",
    "distance = int(input())\n",
    "\n",
    "check_distance = lambda d: \"걸어가세요\" if d <= 3 else (\"버스타세요\" if d < 10 else \"택시타세요\")\n",
    "\n",
    "# 결과 출력\n",
    "print(check_distance(distance))\n",
    "print(\"수고하셨습니다.\")"
   ]
  }
 ],
 "metadata": {
  "kernelspec": {
   "display_name": "Python 3 (ipykernel)",
   "language": "python",
   "name": "python3"
  },
  "language_info": {
   "codemirror_mode": {
    "name": "ipython",
    "version": 3
   },
   "file_extension": ".py",
   "mimetype": "text/x-python",
   "name": "python",
   "nbconvert_exporter": "python",
   "pygments_lexer": "ipython3",
   "version": "3.12.7"
  }
 },
 "nbformat": 4,
 "nbformat_minor": 5
}
