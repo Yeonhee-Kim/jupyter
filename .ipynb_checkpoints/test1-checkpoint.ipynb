{
 "cells": [
  {
   "cell_type": "code",
   "execution_count": null,
   "id": "4795eb3c-6e91-42a2-9e38-8a8f42aba345",
   "metadata": {},
   "outputs": [],
   "source": [
    "# 문제 1\n",
    "\n",
    "S = input()\n",
    "\n",
    "S = S.upper() # 대문자 변환\n",
    "\n",
    "output = \"\"\n",
    "\n",
    "i = 0\n",
    "while i < len(S):\n",
    "    output += S\n",
    "    if i < len(S) - 1:\n",
    "        output += \",\"\n",
    "    i += 1\n",
    "\n",
    "print(output)"
   ]
  },
  {
   "cell_type": "code",
   "execution_count": 7,
   "id": "e021eae2-9b6c-4d5b-bc2b-17a997426a30",
   "metadata": {},
   "outputs": [
    {
     "name": "stdin",
     "output_type": "stream",
     "text": [
      " 5\n"
     ]
    },
    {
     "name": "stdout",
     "output_type": "stream",
     "text": [
      "1 1\n",
      "2 8\n",
      "3 27\n",
      "4 64\n",
      "5 125\n"
     ]
    }
   ],
   "source": [
    "# 문제 2\n",
    "N = int(input())\n",
    "\n",
    "for i in range(1, N+1):\n",
    "    print(i, i*i*i)"
   ]
  },
  {
   "cell_type": "code",
   "execution_count": 9,
   "id": "235809e8-1206-4b2c-8cb2-4f8402bee187",
   "metadata": {},
   "outputs": [
    {
     "name": "stdin",
     "output_type": "stream",
     "text": [
      " python\n",
      " is\n",
      " great\n",
      " \n"
     ]
    },
    {
     "name": "stdout",
     "output_type": "stream",
     "text": [
      "pythonisgreat\n"
     ]
    }
   ],
   "source": [
    "# 문제 3\n",
    "result = \"\"\n",
    "\n",
    "while True:\n",
    "    S = input()\n",
    "    if S == \"\":\n",
    "        break\n",
    "    result += S\n",
    "\n",
    "print(result)"
   ]
  },
  {
   "cell_type": "code",
   "execution_count": 13,
   "id": "47592d4a-38c1-406f-b50b-3b6f6a7e5695",
   "metadata": {},
   "outputs": [
    {
     "name": "stdin",
     "output_type": "stream",
     "text": [
      " 30 60\n",
      " 45 30 60 25 50 -999\n"
     ]
    },
    {
     "name": "stdout",
     "output_type": "stream",
     "text": [
      "Humidity OK\n",
      "Humidity OK\n",
      "Humidity OK\n",
      "Warning!\n"
     ]
    }
   ],
   "source": [
    "# 문제 4\n",
    "A,B = map(int, input().split())\n",
    "num = list(map(int, input().split()))\n",
    "\n",
    "for i in range(len(num)-1):\n",
    "    if num[i] >= A and num[i] <= B:\n",
    "        print(\"Humidity OK\")\n",
    "    else:\n",
    "        print(\"Warning!\")\n",
    "        break"
   ]
  },
  {
   "cell_type": "code",
   "execution_count": 14,
   "id": "fb875990-ed7d-4d33-b242-2e9569688457",
   "metadata": {},
   "outputs": [
    {
     "name": "stdout",
     "output_type": "stream",
     "text": [
      "aaa\n"
     ]
    }
   ],
   "source": [
    "print('a'*3)"
   ]
  },
  {
   "cell_type": "code",
   "execution_count": 17,
   "id": "e026465f-6e7a-4c76-9800-7a37e26ba430",
   "metadata": {},
   "outputs": [
    {
     "name": "stdout",
     "output_type": "stream",
     "text": [
      "12\n",
      "aaaaa\n"
     ]
    }
   ],
   "source": [
    "# 문제 5\n",
    "def repeat_n_times(x, n):\n",
    "    print(x * n)\n",
    "\n",
    "if __name__ == \"__main__\":\n",
    "    repeat_n_times(3,4)\n",
    "    repeat_n_times('a',5)"
   ]
  },
  {
   "cell_type": "code",
   "execution_count": 18,
   "id": "4b4ab9e0-047f-4124-97ef-1b513914d948",
   "metadata": {},
   "outputs": [
    {
     "name": "stdout",
     "output_type": "stream",
     "text": [
      "['1', '2', '3', '4', '5']\n"
     ]
    }
   ],
   "source": [
    "# 문제 6\n",
    "target = [1, 2, 3, 4, 5]\n",
    "\n",
    "str_target = list(map(lambda x: str(x), target))\n",
    "\n",
    "print(str_target)"
   ]
  },
  {
   "cell_type": "code",
   "execution_count": 19,
   "id": "a2f1ccba-702c-4550-9f48-78d924cf8375",
   "metadata": {},
   "outputs": [
    {
     "name": "stdout",
     "output_type": "stream",
     "text": [
      "['1', '-2', '9', '-4', '25']\n"
     ]
    }
   ],
   "source": [
    "# 문제 7\n",
    "def your_function(target):\n",
    "    result = list(map(lambda x: str(x**2) if x > 0 else str(x), target))\n",
    "    return result\n",
    "\n",
    "target = [1, -2, 3, -4, 5]\n",
    "result = your_function(target)\n",
    "print(result)"
   ]
  },
  {
   "cell_type": "code",
   "execution_count": 20,
   "id": "97b20982-4d9f-47b9-810a-5ece7504b4fc",
   "metadata": {},
   "outputs": [
    {
     "name": "stdout",
     "output_type": "stream",
     "text": [
      "과속입니다\n"
     ]
    }
   ],
   "source": [
    "# 문제 8\n",
    "speed = 120\n",
    "limit = 50\n",
    "\n",
    "check_speed = lambda speed, limit: \"과속입니다\" if speed > limit else \"정상 속도입니다. 안전운행 하세요.\"\n",
    "\n",
    "print(check_speed(speed, limit))"
   ]
  },
  {
   "cell_type": "code",
   "execution_count": 21,
   "id": "754e26d3-041c-43d3-8d88-aae35bb68bfa",
   "metadata": {},
   "outputs": [
    {
     "name": "stdin",
     "output_type": "stream",
     "text": [
      " 8\n"
     ]
    },
    {
     "name": "stdout",
     "output_type": "stream",
     "text": [
      "버스타세요\n",
      "수고하셨습니다.\n"
     ]
    }
   ],
   "source": [
    "# 문제 9\n",
    "distance = int(input())\n",
    "\n",
    "check_distance = lambda d: \"걸어가세요\" if d <= 3 else (\"버스타세요\" if d < 10 else \"택시타세요\")\n",
    "\n",
    "# 결과 출력\n",
    "print(check_distance(distance))\n",
    "print(\"수고하셨습니다.\")"
   ]
  },
  {
   "cell_type": "code",
   "execution_count": 24,
   "id": "27558699-ab77-4991-a0fe-179f3b40affb",
   "metadata": {},
   "outputs": [
    {
     "name": "stdout",
     "output_type": "stream",
     "text": [
      "[['삼성전자', '삼성생명', '삼성화재'], ['LG전자', 'LG화학'], ['SKT', 'SK바이오사이언스'], ['셀트리온']]\n",
      "['셀트리온', '종근당']\n"
     ]
    }
   ],
   "source": [
    "# 문제 10\n",
    "companies = [\n",
    "    ['삼성전자', '삼성생명', '삼성화재'],\n",
    "    ['LG전자', 'LG화학'],\n",
    "    ['SKT', 'SK바이오사이언스'],\n",
    "    ['셀트리온']\n",
    "]\n",
    "print(companies)\n",
    "\n",
    "companies[3].append('종근당')\n",
    "\n",
    "remove_com = companies.pop()\n",
    "\n",
    "print(remove_com)"
   ]
  },
  {
   "cell_type": "code",
   "execution_count": 26,
   "id": "e706692c-5267-46b7-8108-9cc52f8f71ef",
   "metadata": {},
   "outputs": [
    {
     "name": "stdout",
     "output_type": "stream",
     "text": [
      "[29, 39, 73, 13, 70, 59, 21, 10, 87, 96, 17, 45, 1, 53, 60, 31, 49, 36, 66, 41, 69, 9, 22, 57, 37, 50, 5, 62, 34, 46, 86, 84, 81, 99, 80, 18, 24, 97, 32, 23, 82, 65, 7, 44, 93, 33, 26, 12, 95, 15]\n"
     ]
    }
   ],
   "source": [
    "# 문제 11\n",
    "import random\n",
    "\n",
    "numlist = range(1,101)\n",
    "s = random.sample(numlist, 50)\n",
    "print(s)"
   ]
  },
  {
   "cell_type": "code",
   "execution_count": null,
   "id": "ffc8c514-fd7c-4970-9534-d3cf0a45c395",
   "metadata": {},
   "outputs": [],
   "source": []
  },
  {
   "cell_type": "code",
   "execution_count": null,
   "id": "9a37979e-97c8-4569-b660-a118bf73f82f",
   "metadata": {},
   "outputs": [],
   "source": []
  },
  {
   "cell_type": "code",
   "execution_count": null,
   "id": "98a081cb-80d6-4e9d-8269-5b16e0670225",
   "metadata": {},
   "outputs": [],
   "source": []
  }
 ],
 "metadata": {
  "kernelspec": {
   "display_name": "Python 3 (ipykernel)",
   "language": "python",
   "name": "python3"
  },
  "language_info": {
   "codemirror_mode": {
    "name": "ipython",
    "version": 3
   },
   "file_extension": ".py",
   "mimetype": "text/x-python",
   "name": "python",
   "nbconvert_exporter": "python",
   "pygments_lexer": "ipython3",
   "version": "3.12.7"
  }
 },
 "nbformat": 4,
 "nbformat_minor": 5
}
